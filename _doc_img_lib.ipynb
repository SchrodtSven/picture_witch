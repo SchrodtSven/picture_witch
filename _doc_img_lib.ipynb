{
 "cells": [
  {
   "cell_type": "markdown",
   "id": "beb2e2f6",
   "metadata": {},
   "source": [
    "#  Doq4 img_lib"
   ]
  },
  {
   "cell_type": "code",
   "execution_count": null,
   "id": "41851b3a",
   "metadata": {},
   "outputs": [],
   "source": [
    "### flip()\n",
    "\n",
    "# clarification: one may choose to specify axis='index' (instead of axis=0) or axis='columns' (instead of axis=1)\n",
    "# Usually axis=0 is said to be \"column-wise\" (and axis=1 \"row-wise\")\n",
    "# A        B\n",
    "# 0  0.626386  1.52325  → → axis=1 → →\n",
    "#           ↓        ↓\n",
    "#           ↓ axis=0 ↓\n",
    "#           ↓        ↓"
   ]
  },
  {
   "cell_type": "markdown",
   "id": "a3a4fc73",
   "metadata": {},
   "source": [
    "# Appendix\n",
    "\n",
    "## Web Refs\n",
    "\n",
    "- https://numpy.org/doc/stable/reference/generated/numpy.flip.html\n",
    "- https://www.pythoninformer.com/python-libraries/numpy/numpy-and-images/\n",
    "- https://note.nkmk.me/en/numpy/\n"
   ]
  }
 ],
 "metadata": {
  "language_info": {
   "name": "python"
  }
 },
 "nbformat": 4,
 "nbformat_minor": 5
}
