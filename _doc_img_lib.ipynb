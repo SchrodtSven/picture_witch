{
 "cells": [
  {
   "cell_type": "markdown",
   "id": "beb2e2f6",
   "metadata": {},
   "source": [
    "#  Doq4 img_lib"
   ]
  },
  {
   "cell_type": "code",
   "execution_count": null,
   "id": "41851b3a",
   "metadata": {},
   "outputs": [],
   "source": [
    "### flip()\n",
    "\n",
    "# clarification: one may choose to specify axis='index' (instead of axis=0) or axis='columns' (instead of axis=1)\n",
    "# Usually axis=0 is said to be \"column-wise\" (and axis=1 \"row-wise\")\n",
    "# A        B\n",
    "# 0  0.626386  1.52325  → → axis=1 → →\n",
    "#           ↓        ↓\n",
    "#           ↓ axis=0 ↓\n",
    "#           ↓        ↓"
   ]
  },
  {
   "cell_type": "code",
   "execution_count": 5,
   "id": "f9af4569",
   "metadata": {},
   "outputs": [
    {
     "data": {
      "image/png": "[encoded data removed]",
      "text/plain": [
       "<Figure size 640x480 with 1 Axes>"
      ]
     },
     "metadata": {},
     "output_type": "display_data"
    }
   ],
   "source": [
    "import numpy as np\n",
    "import matplotlib.pyplot as plt\n",
    "\n",
    "img = np.zeros((90, 90, 3), dtype=np.uint8) # col row clr\n",
    "img[0:30,:,:] = [128, 0, 128]\n",
    "img[30:60,:,:] = [128, 128, 0]\n",
    "img[60:90,:,:] = [0, 128, 128]\n",
    "# img = np.random.randint(0,256,(100,100,3), np.uint8)\n",
    "# plt.title('Random img')\n",
    "\n",
    "plt.imshow(img)\n",
    "plt.show()"
   ]
  },
  {
   "cell_type": "markdown",
   "id": "4ed44c42",
   "metadata": {},
   "source": [
    "### grayscale -NTSC   This formula closely represents the average person's relative perception of the brightness of red, green, and blue light."
   ]
  },
  {
   "cell_type": "markdown",
   "id": "bc4b0bf1",
   "metadata": {},
   "source": [
    "### crop(x1,y1,x2,y2)\n",
    "\n",
    "Ex. first = Image.open('test_image_rgb.webp') \n",
    "--> size (2048, 1536)\n",
    " center: 1024, 768\n",
    " --> edge: 60 px\n",
    " 1024 - 30 - 994\n",
    " 1024 + 30 1054\n",
    "\n",
    " 768 - 30 738\n",
    " 768 + 30 798\n",
    "\n",
    " 738, 994 (LT)\n",
    " 798, 1054 (BR)\n",
    "\n"
   ]
  },
  {
   "cell_type": "markdown",
   "id": "a3a4fc73",
   "metadata": {},
   "source": [
    "# Appendix\n",
    "\n",
    "## Web Refs\n",
    "\n",
    "- https://numpy.org/doc/stable/reference/generated/numpy.flip.html\n",
    "- https://www.pythoninformer.com/python-libraries/numpy/numpy-and-images/\n",
    "- https://note.nkmk.me/en/numpy/\n"
   ]
  },
  {
   "cell_type": "code",
   "execution_count": 1,
   "id": "e78f808f",
   "metadata": {},
   "outputs": [
    {
     "data": {
      "text/plain": [
       "768"
      ]
     },
     "execution_count": 1,
     "metadata": {},
     "output_type": "execute_result"
    }
   ],
   "source": [
    "1536//2"
   ]
  }
 ],
 "metadata": {
  "kernelspec": {
   "display_name": "Python 3",
   "language": "python",
   "name": "python3"
  },
  "language_info": {
   "codemirror_mode": {
    "name": "ipython",
    "version": 3
   },
   "file_extension": ".py",
   "mimetype": "text/x-python",
   "name": "python",
   "nbconvert_exporter": "python",
   "pygments_lexer": "ipython3",
   "version": "3.13.2"
  }
 },
 "nbformat": 4,
 "nbformat_minor": 5
}
