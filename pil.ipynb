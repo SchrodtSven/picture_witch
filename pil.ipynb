{
 "cells": [
  {
   "cell_type": "markdown",
   "id": "ef406bd0",
   "metadata": {},
   "source": [
    "# PIL Python Image Library\n",
    "\n",
    "\n",
    "\n"
   ]
  },
  {
   "cell_type": "code",
   "execution_count": 1,
   "id": "6692c7c8",
   "metadata": {},
   "outputs": [],
   "source": [
    "from PIL import Image\n",
    "import numpy as np\n",
    "\n",
    "im = Image.open(\"sven.jpg\")\n",
    "\n",
    "box = (0, 0, 64, 64)\n",
    "region = im.crop(box)\n",
    "\n",
    "region = region.transpose(Image.Transpose.ROTATE_180)\n",
    "im.paste(region, box)\n",
    "\n",
    "\n",
    "im.show()\n",
    "\n",
    "\n",
    "\n"
   ]
  },
  {
   "cell_type": "markdown",
   "id": "5c05444d",
   "metadata": {},
   "source": []
  },
  {
   "cell_type": "code",
   "execution_count": null,
   "id": "02a56795",
   "metadata": {},
   "outputs": [],
   "source": [
    "exit()\n",
    "sven_arr = np.array(im)\n",
    "sven_arr = 255 - sven_arr\n",
    "\n",
    "\n",
    "\n",
    "sven = Image.fromarray(sven_arr)\n",
    "sven.show()\n",
    "exit()\n",
    "# “L” (luminance) for grayscale images, “RGB” im.mode\n",
    "\n",
    "print(im.mode)\n",
    "\n",
    "print(im.format, im.size, im.mode)\n",
    "# im.show()\n",
    "\n",
    "gray = im.convert(\"L\") # Luminance??\n",
    "print(gray.mode)\n",
    "gray_arr = np.array(gray)\n",
    "gray_arr"
   ]
  },
  {
   "cell_type": "markdown",
   "id": "a66ee3df",
   "metadata": {},
   "source": [
    "# https://www.pythoninformer.com/python-libraries/numpy/numpy-and-images/\n",
    "\n",
    "from PIL import Image\n",
    "import numpy as np\n",
    "\n"
   ]
  },
  {
   "cell_type": "code",
   "execution_count": 11,
   "id": "924d75ce",
   "metadata": {},
   "outputs": [],
   "source": [
    "width = 5\n",
    "height = 4\n",
    " \n",
    "array = np.zeros([height, width, 3], dtype=np.uint8)\n",
    "img = Image.fromarray(array)\n",
    "img.save('testrgb.png')\n",
    "img.show()"
   ]
  },
  {
   "cell_type": "code",
   "execution_count": 13,
   "id": "7e3f1ea9",
   "metadata": {},
   "outputs": [],
   "source": [
    "array = np.zeros([100, 200, 3], dtype=np.uint8)\n",
    "array[:,:100] = [128, 128, 128] # GRay left side\n",
    "array[:,100:] = [0, 0, 255]   # Blue right side\n",
    "\n",
    "img = Image.fromarray(array)\n",
    "img.show()"
   ]
  },
  {
   "cell_type": "markdown",
   "id": "2bd2c667",
   "metadata": {},
   "source": [
    "SEE: https://pillow.readthedocs.io/en/stable/handbook/concepts.html"
   ]
  },
  {
   "cell_type": "markdown",
   "id": "9e5a414b",
   "metadata": {},
   "source": [
    "What does this code do?\n",
    "\n",
    "- Creates a 100 (height) by 200 (width) by 3 (colours) pixel array.\n",
    "- Use slice notation to fill the left half of the array with orange.\n",
    "- Use slice notation to fill the right half of the array with blue.\n"
   ]
  },
  {
   "cell_type": "markdown",
   "id": "7f8e9023",
   "metadata": {},
   "source": [
    "## Bands\n",
    "An image can consist of <em>one or more <b>bands</b> of data</em>. The Python Imaging Library allows you to store several bands in a single image, provided they all have the same dimensions and depth. For example, a PNG image might have ‘R’, ‘G’, ‘B’, and ‘A’ bands for the red, green, blue, and alpha transparency values. Many operations act on each band separately, e.g., histograms. \n",
    "<b>It is often useful to think of each pixel as having one value per band.</b>\n",
    "\n",
    "To get the number and names of bands in an image, use the ``getbands()`` method."
   ]
  },
  {
   "cell_type": "markdown",
   "id": "54501886",
   "metadata": {},
   "source": [
    "<ul class=\"simple\">\n",
    "<li><p><code class=\"docutils literal notranslate\"><span class=\"pre\">1</span></code> (1-bit pixels, black and white, stored with one pixel per byte)</p></li>\n",
    "<li><p><code class=\"docutils literal notranslate\"><span class=\"pre\">L</span></code> (8-bit pixels, grayscale)</p></li>\n",
    "<li><p><code class=\"docutils literal notranslate\"><span class=\"pre\">P</span></code> (8-bit pixels, mapped to any other mode using a color palette)</p></li>\n",
    "<li><p><code class=\"docutils literal notranslate\"><span class=\"pre\">RGB</span></code> (3x8-bit pixels, true color)</p></li>\n",
    "<li><p><code class=\"docutils literal notranslate\"><span class=\"pre\">RGBA</span></code> (4x8-bit pixels, true color with transparency mask)</p></li>\n",
    "<li><p><code class=\"docutils literal notranslate\"><span class=\"pre\">CMYK</span></code> (4x8-bit pixels, color separation)</p></li>\n",
    "<li><p><code class=\"docutils literal notranslate\"><span class=\"pre\">YCbCr</span></code> (3x8-bit pixels, color video format)</p>\n",
    "<ul>\n",
    "<li><p>Note that this refers to the JPEG, and not the ITU-R BT.2020, standard</p></li>\n",
    "</ul>\n",
    "</li>\n",
    "<li><p><code class=\"docutils literal notranslate\"><span class=\"pre\">LAB</span></code> (3x8-bit pixels, the L*a*b color space)</p></li>\n",
    "<li><p><code class=\"docutils literal notranslate\"><span class=\"pre\">HSV</span></code> (3x8-bit pixels, Hue, Saturation, Value color space)</p>\n",
    "<ul>\n",
    "<li><p>Hue’s range of 0-255 is a scaled version of 0 degrees &lt;= Hue &lt; 360 degrees</p></li>\n",
    "</ul>\n",
    "</li>\n",
    "<li><p><code class=\"docutils literal notranslate\"><span class=\"pre\">I</span></code> (32-bit signed integer pixels)</p></li>\n",
    "<li><p><code class=\"docutils literal notranslate\"><span class=\"pre\">F</span></code> (32-bit floating point pixels)</p></li>\n",
    "</ul>"
   ]
  },
  {
   "cell_type": "markdown",
   "id": "23d04176",
   "metadata": {},
   "source": [
    "## Coordinate System\n",
    "Coordinate System\n",
    "\n",
    "The Python Imaging Library uses a Cartesian pixel coordinate system, with (0,0) in the upper left corner. Note that the coordinates refer to the implied pixel corners; the centre of a pixel addressed as (0, 0) actually lies at (0.5, 0.5).\n",
    "\n",
    "Coordinates are usually passed to the library as 2-tuples (x, y). Rectangles are represented as 4-tuples, (x1, y1, x2, y2), with the upper left corner given first.\n",
    "Palette\n",
    "\n",
    "The palette mode (P) uses a color palette to define the actual color for each pixel.\n",
    "Info\n",
    "\n",
    "You can attach auxiliary information to an image using the info attribute. This is a dictionary object.\n",
    "\n",
    "How such information is handled when loading and saving image files is up to the file format handler (see the chapter on Image file formats). Most handlers add properties to the info attribute when loading an image, but ignore it when saving images.\n",
    "Transparency\n",
    "\n",
    "If an image does not have an alpha band, transparency may be specified in the info attribute with a “transparency” key.\n",
    "\n",
    "Most of the time, the “transparency” value is a single integer, describing which pixel value is transparent in a “1”, “L”, “I” or “P” mode image. However, PNG images may have three values, one for each channel in an “RGB” mode image, or can have a byte string for a “P” mode image, to specify the alpha value for each palette entry.\n",
    "Orientation\n",
    "\n",
    "A common element of the info attribute for JPG and TIFF images is the EXIF orientation tag. This is an instruction for how the image data should be oriented. For example, it may instruct an image to be rotated by 90 degrees, or to be mirrored. To apply this information to an image, exif_transpose() can be used.\n",
    "Filters\n",
    "\n",
    "For geometry operations that may map multiple input pixels to a single output pixel, the Python Imaging Library provides different resampling filters.\n",
    "\n",
    "Resampling.NEAREST\n",
    "\n",
    "    Pick one nearest pixel from the input image. Ignore all other input pixels.\n",
    "\n",
    "Resampling.BOX\n",
    "\n",
    "    Each pixel of source image contributes to one pixel of the destination image with identical weights. For upscaling is equivalent of Resampling.NEAREST. This filter can only be used with the resize() and thumbnail() methods.\n",
    "\n",
    "    Added in version 3.4.0.\n",
    "\n",
    "Resampling.BILINEAR\n",
    "\n",
    "    For resize calculate the output pixel value using linear interpolation on all pixels that may contribute to the output value. For other transformations linear interpolation over a 2x2 environment in the input image is used.\n",
    "\n",
    "Resampling.HAMMING\n",
    "\n",
    "    Produces a sharper image than Resampling.BILINEAR, doesn’t have dislocations on local level like with Resampling.BOX. This filter can only be used with the resize() and thumbnail() methods.\n",
    "\n",
    "    Added in version 3.4.0.\n",
    "\n",
    "Resampling.BICUBIC\n",
    "\n",
    "    For resize calculate the output pixel value using cubic interpolation on all pixels that may contribute to the output value. For other transformations cubic interpolation over a 4x4 environment in the input image is used.\n",
    "\n",
    "Resampling.LANCZOS\n",
    "\n",
    "    Calculate the output pixel value using a high-quality Lanczos filter (a truncated sinc) on all pixels that may contribute to the output value. This filter can only be used with the resize() and thumbnail() methods.\n",
    "\n",
    "    Added in version 1.1.3.\n",
    "\n"
   ]
  },
  {
   "cell_type": "code",
   "execution_count": null,
   "id": "512353b7",
   "metadata": {},
   "outputs": [],
   "source": []
  }
 ],
 "metadata": {
  "kernelspec": {
   "display_name": "Python 3",
   "language": "python",
   "name": "python3"
  },
  "language_info": {
   "codemirror_mode": {
    "name": "ipython",
    "version": 3
   },
   "file_extension": ".py",
   "mimetype": "text/x-python",
   "name": "python",
   "nbconvert_exporter": "python",
   "pygments_lexer": "ipython3",
   "version": "3.13.2"
  }
 },
 "nbformat": 4,
 "nbformat_minor": 5
}
